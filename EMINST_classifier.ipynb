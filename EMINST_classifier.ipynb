{
  "nbformat": 4,
  "nbformat_minor": 0,
  "metadata": {
    "colab": {
      "provenance": []
    },
    "kernelspec": {
      "name": "python3",
      "display_name": "Python 3"
    },
    "language_info": {
      "name": "python"
    }
  },
  "cells": [
    {
      "cell_type": "markdown",
      "source": [
        "## **Training** an EMNIST classifier"
      ],
      "metadata": {
        "id": "IxH_JA8YuQrb"
      }
    },
    {
      "cell_type": "code",
      "source": [
        "import torch\n",
        "import torch.nn as nn\n",
        "import torch.optim as optim\n",
        "\n",
        "import matplotlib.pyplot as plt\n",
        "import numpy as np\n",
        "\n",
        "import torchvision\n",
        "from torchvision.datasets import EMNIST\n",
        "import torchvision.transforms.functional as F\n",
        "import torch.nn.functional as F\n",
        "from torchvision import transforms\n",
        "from torch.utils.data import DataLoader, Subset, random_split"
      ],
      "metadata": {
        "id": "4GQMlmw2hwbn"
      },
      "execution_count": 1,
      "outputs": []
    },
    {
      "cell_type": "code",
      "source": [
        "train_data = EMNIST(root='emnist_data/', split='byclass', download=True)\n",
        "test_data = EMNIST(root='emnist_data/', split='byclass', download=True, train=False)"
      ],
      "metadata": {
        "id": "InCfHKZme7ga",
        "colab": {
          "base_uri": "https://localhost:8080/"
        },
        "outputId": "a387e52b-e6c6-47fc-fa57-70f6683c44a6"
      },
      "execution_count": 2,
      "outputs": [
        {
          "output_type": "stream",
          "name": "stdout",
          "text": [
            "Downloading https://www.itl.nist.gov/iaui/vip/cs_links/EMNIST/gzip.zip to emnist_data/EMNIST/raw/gzip.zip\n"
          ]
        },
        {
          "output_type": "stream",
          "name": "stderr",
          "text": [
            "100%|██████████| 561753746/561753746 [00:17<00:00, 32353105.37it/s]\n"
          ]
        },
        {
          "output_type": "stream",
          "name": "stdout",
          "text": [
            "Extracting emnist_data/EMNIST/raw/gzip.zip to emnist_data/EMNIST/raw\n"
          ]
        }
      ]
    },
    {
      "cell_type": "code",
      "source": [
        "# This cell is for demo purposes. feel free to remove it if you want.\n",
        "print('Number of classes in dataset:', len(train_data.classes))\n",
        "print('Unique labels:', train_data.classes)\n",
        "\n",
        "demo_img, demo_label = train_data[10]\n",
        "\n",
        "print(demo_label)\n",
        "torchvision.transforms.functional.resize(demo_img, (255, 255))"
      ],
      "metadata": {
        "colab": {
          "base_uri": "https://localhost:8080/",
          "height": 342
        },
        "id": "udb4rY5Vhaau",
        "outputId": "5d08da26-7abf-472b-bbbf-4c86a693a3f8"
      },
      "execution_count": 3,
      "outputs": [
        {
          "output_type": "stream",
          "name": "stdout",
          "text": [
            "Number of classes in dataset: 62\n",
            "Unique labels: ['0', '1', '2', '3', '4', '5', '6', '7', '8', '9', 'A', 'B', 'C', 'D', 'E', 'F', 'G', 'H', 'I', 'J', 'K', 'L', 'M', 'N', 'O', 'P', 'Q', 'R', 'S', 'T', 'U', 'V', 'W', 'X', 'Y', 'Z', 'a', 'b', 'c', 'd', 'e', 'f', 'g', 'h', 'i', 'j', 'k', 'l', 'm', 'n', 'o', 'p', 'q', 'r', 's', 't', 'u', 'v', 'w', 'x', 'y', 'z']\n",
            "7\n"
          ]
        },
        {
          "output_type": "execute_result",
          "data": {
            "text/plain": [
              "<PIL.Image.Image image mode=L size=255x255>"
            ],
            "image/png": "[encoded data removed]"
          },
          "metadata": {},
          "execution_count": 3
        }
      ]
    },
    {
      "cell_type": "code",
      "source": [
        "# Transformations for the EMNIST dataset\n",
        "transform = transforms.Compose([\n",
        "    transforms.ToTensor(),\n",
        "])\n",
        "\n",
        "# Load the datasets\n",
        "train_data = EMNIST(root='emnist_data/', split='byclass', train=True, download=True, transform=transform)\n",
        "test_data = EMNIST(root='emnist_data/', split='byclass', train=False, download=True, transform=transform)\n",
        "\n",
        "# Define the size of the subset as a fraction of the original dataset\n",
        "subset_fraction = 0.1 ## You can play with this to get a bigger or smaller subset\n",
        "\n",
        "# Create indices for the training subset\n",
        "train_indices = np.random.choice(len(train_data), int(len(train_data) * subset_fraction), replace=False)\n",
        "\n",
        "# Create the training subset\n",
        "train_subset = Subset(train_data, train_indices)\n",
        "\n",
        "\n",
        "# For the test set, you can do the same or use the full test set\n",
        "test_indices = np.random.choice(len(test_data), int(len(test_data) * subset_fraction), replace=False)\n",
        "test_subset = Subset(test_data, test_indices)\n",
        "\n",
        "\n",
        "# Check the size of the subset\n",
        "print(f\"Training subset size: {len(train_subset)}\")\n",
        "print(f\"Test subset size: {len(test_subset)}\")\n",
        "\n",
        "# Define the DataLoaders\n",
        "train_loader = DataLoader(train_subset, batch_size=32, shuffle=True)\n",
        "test_loader = DataLoader(test_subset, batch_size=32, shuffle=False)"
      ],
      "metadata": {
        "id": "Ia6MAyxqhiAi",
        "colab": {
          "base_uri": "https://localhost:8080/"
        },
        "outputId": "b22c63b6-04a4-4a88-829d-e97643cd9460"
      },
      "execution_count": 4,
      "outputs": [
        {
          "output_type": "stream",
          "name": "stdout",
          "text": [
            "Training subset size: 69793\n",
            "Test subset size: 11632\n"
          ]
        }
      ]
    },
    {
      "cell_type": "code",
      "source": [
        "class FirstNN(nn.Module):\n",
        "    def __init__(self, num_inp, num_hidden1, num_hidden2, num_out):\n",
        "        super(FirstNN, self).__init__()\n",
        "\n",
        "        self.layer_1 = nn.Linear(num_inp, num_hidden1)\n",
        "        self.layer_2 = nn.Linear(num_hidden1, num_hidden2)\n",
        "        self.layer_3 = nn.Linear(num_hidden2, num_out)\n",
        "\n",
        "        self.ReLU = nn.ReLU()\n",
        "        self.softmax = nn.Softmax(dim=1)\n",
        "\n",
        "\n",
        "    def forward(self, x):\n",
        "        z1 = self.layer_1(x)\n",
        "        a1 = self.ReLU(z1)\n",
        "        z2 = self.layer_2(a1)\n",
        "        a2 = self.ReLU(z2)\n",
        "        z3 = self.layer_3(a2)\n",
        "        a3 = self.softmax(z3)\n",
        "        return a3"
      ],
      "metadata": {
        "id": "gREX4cmtWh_U"
      },
      "execution_count": 5,
      "outputs": []
    },
    {
      "cell_type": "code",
      "source": [
        "class SecondNN(nn.Module):\n",
        "    def __init__(self, num_inp, num_hidden1, num_hidden2, num_hidden3, num_hidden4, num_out):\n",
        "        super(SecondNN, self).__init__()\n",
        "\n",
        "\n",
        "        self.layer_1 = nn.Linear(num_inp, num_hidden1)\n",
        "        self.layer_2 = nn.Linear(num_hidden1, num_hidden2)\n",
        "        self.layer_3 = nn.Linear(num_hidden2, num_hidden3)\n",
        "        self.layer_4 = nn.Linear(num_hidden3, num_hidden4)\n",
        "        self.layer_5 = nn.Linear(num_hidden4, num_out)\n",
        "\n",
        "        self.ReLU = nn.ReLU()\n",
        "        self.leakyReLU = nn.LeakyReLU()\n",
        "        self.sigmod = nn.Sigmoid()\n",
        "        self.log_sigmod = nn.LogSigmoid()\n",
        "        self.Tanh = nn.Tanh()\n",
        "        self.Thshold= nn.Threshold(0.1, 2)\n",
        "        self.softmax = nn.Softmax(dim=1)\n",
        "\n",
        "\n",
        "    def forward(self, x):\n",
        "        z1 = self.layer_1(x)\n",
        "        a1 = self.ReLU(z1)\n",
        "        z2 = self.layer_2(a1)\n",
        "        a2 = self.log_sigmod(z2)\n",
        "        z3 = self.layer_3(a2)\n",
        "        a3 = self.leakyReLU(z3)\n",
        "        z4 = self.layer_4(a3)\n",
        "        a4 = self.Tanh(z4)\n",
        "        z5 = self.layer_5(a4)\n",
        "        a5 = self.softmax(z5)\n",
        "        return a5"
      ],
      "metadata": {
        "id": "TS9Gp27xdkNT"
      },
      "execution_count": 6,
      "outputs": []
    },
    {
      "cell_type": "code",
      "source": [
        "num_epochs = 10\n",
        "lr = 1e-3\n",
        "\n",
        "device = 'cuda' if torch.cuda.is_available() else 'cpu'  # checks if machine supports cuda and if it does, we use that, otherwise cpu\n",
        "\n",
        "train_losses = []\n",
        "val_losses = []\n",
        "\n",
        "\n",
        "model = SecondNN(28*28, 512, 256, 200, 128, 62)\n",
        "\n",
        "optimizer = optim.Adam(model.parameters(), lr=lr)\n",
        "criterion = nn.CrossEntropyLoss()  # multi-class\n",
        "\n",
        "model.to(device)  # we need to send all input tensors as well as our model to this device. by default they are on cpu\n",
        "\n",
        "print(f'Using device {device}')"
      ],
      "metadata": {
        "colab": {
          "base_uri": "https://localhost:8080/"
        },
        "id": "u_4LZxgAeRXp",
        "outputId": "992eb957-b33f-4b88-a17d-78dfbb16b604"
      },
      "execution_count": null,
      "outputs": [
        {
          "output_type": "stream",
          "name": "stdout",
          "text": [
            "Using device cpu\n"
          ]
        }
      ]
    },
    {
      "cell_type": "code",
      "source": [
        "%%time\n",
        "for epoch_no in range(num_epochs):\n",
        "\n",
        "  model.train()  # convert to train model.\n",
        "\n",
        "  epoch_weighted_loss = 0\n",
        "\n",
        "  for batch_X, batch_y in train_loader:\n",
        "\n",
        "    batch_X = batch_X.view(-1, 28*28).to(device)  # convert to [N, 28*28] shape where N is batch_size\n",
        "    batch_y = batch_y.to(device)\n",
        "\n",
        "    batch_y_probs = model(batch_X)\n",
        "\n",
        "    loss = criterion(batch_y_probs, batch_y)\n",
        "\n",
        "    optimizer.zero_grad()  # need to clear out gradients from previous batch\n",
        "    loss.backward()  # calculate new gradients\n",
        "    optimizer.step()  # update weights\n",
        "\n",
        "    epoch_weighted_loss += (len(batch_y)*loss.item())\n",
        "\n",
        "  epoch_loss = epoch_weighted_loss/len(train_loader.dataset)\n",
        "  train_losses.append(epoch_loss)\n",
        "\n",
        "\n",
        "  # Validation time\n",
        "\n",
        "  model.eval()  # take model to evaluation mode. turn off train-only layers\n",
        "  correctly_labelled = 0\n",
        "\n",
        "  with torch.no_grad():  #  to make model not track gradients\n",
        "\n",
        "    val_epoch_weighted_loss = 0\n",
        "\n",
        "    for val_batch_X, val_batch_y in test_loader:\n",
        "\n",
        "      val_batch_X = val_batch_X.view(-1, 28*28).to(device)\n",
        "      val_batch_y = val_batch_y.to(device)\n",
        "\n",
        "      val_batch_y_probs = model(val_batch_X)\n",
        "\n",
        "      loss = criterion(val_batch_y_probs, val_batch_y)\n",
        "      val_epoch_weighted_loss += (len(val_batch_y)*loss.item())\n",
        "\n",
        "      val_batch_y_pred = val_batch_y_probs.argmax(dim=1)  # convert probailities to labels by picking the label (index) with the highest prob\n",
        "\n",
        "      correctly_labelled += (val_batch_y_pred == val_batch_y).sum().item()  # item() converts tensor to float/int/list\n",
        "\n",
        "  val_epoch_loss = val_epoch_weighted_loss/len(test_loader.dataset)\n",
        "  val_losses.append(val_epoch_loss)\n",
        "\n",
        "  print(f'Epoch: {epoch_no}, train_loss={epoch_loss}, val_loss={val_epoch_loss}. labelled {correctly_labelled}/{len(test_loader.dataset)} correctly ({correctly_labelled/len(test_loader.dataset)*100}% accuracy)')\n",
        "\n",
        "print(f'Training complete on device {device}. Change device variable and run again to see the difference.')\n",
        "# Im create two NN architecture the best one is the second one\n",
        "# And the best hyperparameters I define it in above cell"
      ],
      "metadata": {
        "colab": {
          "base_uri": "https://localhost:8080/"
        },
        "id": "18EWnIisbZY4",
        "outputId": "991fd640-5477-429a-d5d9-42281e517fa3"
      },
      "execution_count": null,
      "outputs": [
        {
          "output_type": "stream",
          "name": "stdout",
          "text": [
            "Epoch: 0, train_loss=3.7888831096429065, val_loss=3.698520463959223. labelled 5317/11632 correctly (45.71011004126547% accuracy)\n",
            "Epoch: 1, train_loss=3.691325133278591, val_loss=3.6854716304899737. labelled 5456/11632 correctly (46.9050894085282% accuracy)\n",
            "Epoch: 2, train_loss=3.6328124228102214, val_loss=3.598214981808459. labelled 6471/11632 correctly (55.63101788170564% accuracy)\n",
            "Epoch: 3, train_loss=3.579794171119753, val_loss=3.5555898726724364. labelled 6972/11632 correctly (59.93810178817056% accuracy)\n",
            "Epoch: 4, train_loss=3.537100610646537, val_loss=3.512216692941553. labelled 7495/11632 correctly (64.43431911966988% accuracy)\n",
            "Epoch: 5, train_loss=3.504951815758682, val_loss=3.501580583672084. labelled 7606/11632 correctly (65.38858321870703% accuracy)\n",
            "Epoch: 6, train_loss=3.4880364687982213, val_loss=3.4762588924686058. labelled 7917/11632 correctly (68.06224209078404% accuracy)\n",
            "Epoch: 7, train_loss=3.4675357563709177, val_loss=3.4636296832413915. labelled 8050/11632 correctly (69.20563961485557% accuracy)\n",
            "Epoch: 8, train_loss=3.4623863081474107, val_loss=3.4627560018017336. labelled 8056/11632 correctly (69.25722145804677% accuracy)\n",
            "Epoch: 9, train_loss=3.455389539810097, val_loss=3.4534981988647124. labelled 8167/11632 correctly (70.2114855570839% accuracy)\n",
            "Training complete on device cpu. Change device variable and run again to see the difference.\n",
            "CPU times: user 6min 13s, sys: 1.24 s, total: 6min 15s\n",
            "Wall time: 6min 18s\n"
          ]
        }
      ]
    },
    {
      "cell_type": "code",
      "source": [
        "# visualize the validation results\n",
        "plt.plot(train_losses, label='train loss')\n",
        "plt.plot(val_losses, label='val loss')\n",
        "plt.xlabel('Epoch')\n",
        "plt.ylabel('Loss (Cross Entropy)')\n",
        "plt.legend()\n",
        "plt.show()"
      ],
      "metadata": {
        "colab": {
          "base_uri": "https://localhost:8080/",
          "height": 470
        },
        "id": "aI8EC0UxbsSF",
        "outputId": "94452920-d168-4586-9cc2-bec5d14ac055"
      },
      "execution_count": null,
      "outputs": [
        {
          "output_type": "display_data",
          "data": {
            "text/plain": [
              "<Figure size 640x480 with 1 Axes>"
            ],
            "image/png": "[encoded data removed]"
          },
          "metadata": {}
        }
      ]
    },
    {
      "cell_type": "code",
      "source": [],
      "metadata": {
        "id": "Gq7lWlX3-Okf"
      },
      "execution_count": null,
      "outputs": []
    }
  ]
}